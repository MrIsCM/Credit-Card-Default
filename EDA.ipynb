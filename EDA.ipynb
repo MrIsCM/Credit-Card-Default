{
 "cells": [
  {
   "cell_type": "markdown",
   "id": "ac734a6b",
   "metadata": {},
   "source": [
    "# Credit Card Default"
   ]
  },
  {
   "cell_type": "markdown",
   "id": "0208a614",
   "metadata": {},
   "source": [
    "## Introduction"
   ]
  },
  {
   "cell_type": "code",
   "execution_count": 1,
   "id": "ef0d7a60",
   "metadata": {},
   "outputs": [],
   "source": [
    "import numpy as np\n",
    "import pandas as pd\n",
    "import matplotlib.pyplot as plt"
   ]
  },
  {
   "cell_type": "markdown",
   "id": "30f81440",
   "metadata": {},
   "source": [
    "## Load Data"
   ]
  },
  {
   "cell_type": "code",
   "execution_count": 2,
   "id": "9e37e265",
   "metadata": {},
   "outputs": [],
   "source": [
    "from ucimlrepo import fetch_ucirepo \n",
    "  \n",
    "# fetch dataset \n",
    "default_of_credit_card_clients = fetch_ucirepo(id=350) \n",
    "  \n",
    "# data (as pandas dataframes) \n",
    "X = default_of_credit_card_clients.data.features \n",
    "y = default_of_credit_card_clients.data.targets \n",
    "  \n",
    "# # metadata \n",
    "# print(default_of_credit_card_clients.metadata) \n",
    "  \n",
    "# # variable information \n",
    "# print(default_of_credit_card_clients.variables) "
   ]
  },
  {
   "cell_type": "code",
   "execution_count": 3,
   "id": "2bb3b89e",
   "metadata": {},
   "outputs": [
    {
     "data": {
      "text/plain": [
       "{'uci_id': 350,\n",
       " 'name': 'Default of Credit Card Clients',\n",
       " 'repository_url': 'https://archive.ics.uci.edu/dataset/350/default+of+credit+card+clients',\n",
       " 'data_url': 'https://archive.ics.uci.edu/static/public/350/data.csv',\n",
       " 'abstract': \"This research aimed at the case of customers' default payments in Taiwan and compares the predictive accuracy of probability of default among six data mining methods.\",\n",
       " 'area': 'Business',\n",
       " 'tasks': ['Classification'],\n",
       " 'characteristics': ['Multivariate'],\n",
       " 'num_instances': 30000,\n",
       " 'num_features': 23,\n",
       " 'feature_types': ['Integer', 'Real'],\n",
       " 'demographics': ['Sex', 'Education Level', 'Marital Status', 'Age'],\n",
       " 'target_col': ['Y'],\n",
       " 'index_col': ['ID'],\n",
       " 'has_missing_values': 'no',\n",
       " 'missing_values_symbol': None,\n",
       " 'year_of_dataset_creation': 2009,\n",
       " 'last_updated': 'Fri Mar 29 2024',\n",
       " 'dataset_doi': '10.24432/C55S3H',\n",
       " 'creators': ['I-Cheng Yeh'],\n",
       " 'intro_paper': {'ID': 365,\n",
       "  'type': 'NATIVE',\n",
       "  'title': 'The comparisons of data mining techniques for the predictive accuracy of probability of default of credit card clients',\n",
       "  'authors': 'I. Yeh, Che-hui Lien',\n",
       "  'venue': 'Expert systems with applications',\n",
       "  'year': 2009,\n",
       "  'journal': None,\n",
       "  'DOI': '10.1016/j.eswa.2007.12.020',\n",
       "  'URL': 'https://www.semanticscholar.org/paper/1cacac4f0ea9fdff3cd88c151c94115a9fddcf33',\n",
       "  'sha': None,\n",
       "  'corpus': None,\n",
       "  'arxiv': None,\n",
       "  'mag': None,\n",
       "  'acl': None,\n",
       "  'pmid': None,\n",
       "  'pmcid': None},\n",
       " 'additional_info': {'summary': \"This research aimed at the case of customers' default payments in Taiwan and compares the predictive accuracy of probability of default among six data mining methods. From the perspective of risk management, the result of predictive accuracy of the estimated probability of default will be more valuable than the binary result of classification - credible or not credible clients. Because the real probability of default is unknown, this study presented the novel Sorting Smoothing Method to estimate the real probability of default. With the real probability of default as the response variable (Y), and the predictive probability of default as the independent variable (X), the simple linear regression result (Y = A + BX) shows that the forecasting model produced by artificial neural network has the highest coefficient of determination; its regression intercept (A) is close to zero, and regression coefficient (B) to one. Therefore, among the six data mining techniques, artificial neural network is the only one that can accurately estimate the real probability of default.\",\n",
       "  'purpose': None,\n",
       "  'funded_by': None,\n",
       "  'instances_represent': None,\n",
       "  'recommended_data_splits': None,\n",
       "  'sensitive_data': None,\n",
       "  'preprocessing_description': None,\n",
       "  'variable_info': 'This research employed a binary variable, default payment (Yes = 1, No = 0), as the response variable. This study reviewed the literature and used the following 23 variables as explanatory variables:\\r\\nX1: Amount of the given credit (NT dollar): it includes both the individual consumer credit and his/her family (supplementary) credit.\\r\\nX2: Gender (1 = male; 2 = female).\\r\\nX3: Education (1 = graduate school; 2 = university; 3 = high school; 4 = others).\\r\\nX4: Marital status (1 = married; 2 = single; 3 = others).\\r\\nX5: Age (year).\\r\\nX6 - X11: History of past payment. We tracked the past monthly payment records (from April to September, 2005) as follows: X6 = the repayment status in September, 2005; X7 = the repayment status in August, 2005; . . .;X11 = the repayment status in April, 2005. The measurement scale for the repayment status is: -1 = pay duly; 1 = payment delay for one month; 2 = payment delay for two months; . . .; 8 = payment delay for eight months; 9 = payment delay for nine months and above.\\r\\nX12-X17: Amount of bill statement (NT dollar). X12 = amount of bill statement in September, 2005; X13 = amount of bill statement in August, 2005; . . .; X17 = amount of bill statement in April, 2005. \\r\\nX18-X23: Amount of previous payment (NT dollar). X18 = amount paid in September, 2005; X19 = amount paid in August, 2005; . . .;X23 = amount paid in April, 2005.\\r\\n',\n",
       "  'citation': None}}"
      ]
     },
     "execution_count": 3,
     "metadata": {},
     "output_type": "execute_result"
    }
   ],
   "source": [
    "default_of_credit_card_clients.metadata"
   ]
  },
  {
   "cell_type": "code",
   "execution_count": 4,
   "id": "23946b84",
   "metadata": {},
   "outputs": [],
   "source": [
    "from sklearn.model_selection import train_test_split\n",
    "\n",
    "seed = 42\n",
    "\n",
    "X_train, X_test, y_train, y_test = train_test_split(X, y, test_size=0.2, random_state=seed, stratify=y)"
   ]
  },
  {
   "cell_type": "code",
   "execution_count": 5,
   "id": "3fbd411d",
   "metadata": {},
   "outputs": [],
   "source": [
    "column_mapping = {\n",
    "    \"X1\": \"credit_amount\",\n",
    "    \"X2\": \"gender\",\n",
    "    \"X3\": \"education\",\n",
    "    \"X4\": \"marital_status\",\n",
    "    \"X5\": \"age\",\n",
    "    \"X6\": \"repayment_status_sep_2005\",\n",
    "    \"X7\": \"repayment_status_aug_2005\",\n",
    "    \"X8\": \"repayment_status_jul_2005\",\n",
    "    \"X9\": \"repayment_status_jun_2005\",\n",
    "    \"X10\": \"repayment_status_may_2005\",\n",
    "    \"X11\": \"repayment_status_apr_2005\",\n",
    "    \"X12\": \"bill_statement_sep_2005\",\n",
    "    \"X13\": \"bill_statement_aug_2005\",\n",
    "    \"X14\": \"bill_statement_jul_2005\",\n",
    "    \"X15\": \"bill_statement_jun_2005\",\n",
    "    \"X16\": \"bill_statement_may_2005\",\n",
    "    \"X17\": \"bill_statement_apr_2005\",\n",
    "    \"X18\": \"previous_payment_sep_2005\",\n",
    "    \"X19\": \"previous_payment_aug_2005\",\n",
    "    \"X20\": \"previous_payment_jul_2005\",\n",
    "    \"X21\": \"previous_payment_jun_2005\",\n",
    "    \"X22\": \"previous_payment_may_2005\",\n",
    "    \"X23\": \"previous_payment_apr_2005\"\n",
    "}"
   ]
  },
  {
   "cell_type": "markdown",
   "id": "b7bd9d51",
   "metadata": {},
   "source": [
    "## Visualization"
   ]
  },
  {
   "cell_type": "code",
   "execution_count": 6,
   "id": "b2e351b0",
   "metadata": {},
   "outputs": [],
   "source": [
    "import matplotlib.pyplot as plt\n",
    "import seaborn as sns\n",
    "\n",
    "# Set the style of seaborn\n",
    "sns.set(style=\"whitegrid\")"
   ]
  },
  {
   "cell_type": "code",
   "execution_count": null,
   "id": "393947de",
   "metadata": {},
   "outputs": [
    {
     "name": "stdout",
     "output_type": "stream",
     "text": [
      "Name of the column: gender\n"
     ]
    },
    {
     "data": {
      "image/png": "[encoded data removed]",
      "text/plain": [
       "<Figure size 640x480 with 1 Axes>"
      ]
     },
     "metadata": {},
     "output_type": "display_data"
    },
    {
     "name": "stdout",
     "output_type": "stream",
     "text": [
      "Percent of Males : 39.52%\n",
      "Percent of Females : 60.48%\n",
      "Default rate for Males : 0.24%\n",
      "Default rate for Females : 20.65%\n",
      "Number of Males: 9486\n",
      "Male defaults: 2312\n",
      "Male Non-default: 7174\n"
     ]
    }
   ],
   "source": [
    "col = f\"X2\"\n",
    "print(f\"Name of the column: {column_mapping[col]}\")\n",
    "\n",
    "sns.countplot(data=X_train, x=col, palette=\"Set2\", hue=y_train.values.flatten())\n",
    "plt.title(f\"Distribution of {column_mapping[col]} in the training set\")\n",
    "plt.xlabel(column_mapping[col])\n",
    "plt.xticks(ticks=[0, 1], labels=[\"Male\", \"Female\"])\n",
    "plt.legend(title=\"Default\", loc=\"upper left\", labels=[\"No Default\", \"Default\"])\n",
    "plt.show()\n",
    "\n",
    "# Output male/female ratio and their respective default rates\n",
    "n_males = X_train[X_train[col] == 1].shape[0]\n",
    "n_females = X_train[X_train[col] == 2].shape[0]\n",
    "\n",
    "print(f\"Percent of Males : {n_males/(n_males + n_females) * 100:.2f}%\")\n",
    "print(f\"Percent of Females : {n_females/(n_males + n_females) * 100:.2f}%\")\n",
    "print(f\"Default rate for Males : {y_train[X_train[col] == 1].values.sum()/n_males :.2f}%\")\n",
    "print(f\"Default rate for Females : {y_train[X_train[col] == 2].values.sum()/n_females * 100:.2f}%\")\n",
    "\n",
    "print(f\"Number of Males: {n_males}\")\n",
    "print(f\"Male defaults: {y_train[X_train[col] == 1].values.sum()}\")\n",
    "print(f\"Male Non-default: {y_train[X_train[col] == 1].shape[0] - y_train[X_train[col] == 1].values.sum()}\")"
   ]
  }
 ],
 "metadata": {
  "kernelspec": {
   "display_name": "CCDefault",
   "language": "python",
   "name": "python3"
  },
  "language_info": {
   "codemirror_mode": {
    "name": "ipython",
    "version": 3
   },
   "file_extension": ".py",
   "mimetype": "text/x-python",
   "name": "python",
   "nbconvert_exporter": "python",
   "pygments_lexer": "ipython3",
   "version": "3.12.9"
  }
 },
 "nbformat": 4,
 "nbformat_minor": 5
}
